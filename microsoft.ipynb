{
 "cells": [
  {
   "cell_type": "markdown",
   "metadata": {},
   "source": [
    "# CLEANING TRAIN DATASET"
   ]
  },
  {
   "cell_type": "code",
   "execution_count": 1,
   "metadata": {},
   "outputs": [
    {
     "name": "stdout",
     "output_type": "stream",
     "text": [
      "Requirement already satisfied: pip in c:\\users\\sures\\appdata\\local\\programs\\python\\python312\\lib\\site-packages (24.3.1)\n"
     ]
    },
    {
     "name": "stderr",
     "output_type": "stream",
     "text": [
      "WARNING: Ignoring invalid distribution ~ip (c:\\Users\\sures\\AppData\\Local\\Programs\\Python\\Python312\\Lib\\site-packages)\n",
      "WARNING: Ignoring invalid distribution ~ip (c:\\Users\\sures\\AppData\\Local\\Programs\\Python\\Python312\\Lib\\site-packages)\n",
      "WARNING: Retrying (Retry(total=4, connect=None, read=None, redirect=None, status=None)) after connection broken by 'NewConnectionError('<pip._vendor.urllib3.connection.HTTPSConnection object at 0x000001C513F33980>: Failed to establish a new connection: [Errno 11001] getaddrinfo failed')': /simple/pip/\n",
      "WARNING: Retrying (Retry(total=3, connect=None, read=None, redirect=None, status=None)) after connection broken by 'NewConnectionError('<pip._vendor.urllib3.connection.HTTPSConnection object at 0x000001C5173A0F20>: Failed to establish a new connection: [Errno 11001] getaddrinfo failed')': /simple/pip/\n",
      "WARNING: Retrying (Retry(total=2, connect=None, read=None, redirect=None, status=None)) after connection broken by 'NewConnectionError('<pip._vendor.urllib3.connection.HTTPSConnection object at 0x000001C5173A24E0>: Failed to establish a new connection: [Errno 11001] getaddrinfo failed')': /simple/pip/\n",
      "WARNING: Retrying (Retry(total=1, connect=None, read=None, redirect=None, status=None)) after connection broken by 'NewConnectionError('<pip._vendor.urllib3.connection.HTTPSConnection object at 0x000001C5173A2720>: Failed to establish a new connection: [Errno 11001] getaddrinfo failed')': /simple/pip/\n",
      "WARNING: Retrying (Retry(total=0, connect=None, read=None, redirect=None, status=None)) after connection broken by 'NewConnectionError('<pip._vendor.urllib3.connection.HTTPSConnection object at 0x000001C5173A2870>: Failed to establish a new connection: [Errno 11001] getaddrinfo failed')': /simple/pip/\n",
      "WARNING: Ignoring invalid distribution ~ip (c:\\Users\\sures\\AppData\\Local\\Programs\\Python\\Python312\\Lib\\site-packages)\n",
      "WARNING: Ignoring invalid distribution ~ip (c:\\Users\\sures\\AppData\\Local\\Programs\\Python\\Python312\\Lib\\site-packages)\n"
     ]
    }
   ],
   "source": [
    "!python -m pip install --upgrade pip\n"
   ]
  },
  {
   "cell_type": "code",
   "execution_count": null,
   "metadata": {},
   "outputs": [
    {
     "name": "stderr",
     "output_type": "stream",
     "text": [
      "<>:11: SyntaxWarning: invalid escape sequence '\\m'\n",
      "<>:11: SyntaxWarning: invalid escape sequence '\\m'\n",
      "C:\\Users\\sures\\AppData\\Local\\Temp\\ipykernel_20888\\2230049549.py:11: SyntaxWarning: invalid escape sequence '\\m'\n",
      "  Train = pd.read_csv(\"D:\\mainboot\\Guvi Projects\\Microsoft\\Dataset\\GUIDE_Train.csv\\GUIDE_Train.csv\")\n"
     ]
    },
    {
     "name": "stdout",
     "output_type": "stream",
     "text": [
      "              Id  OrgId  IncidentId  AlertId                 Timestamp  \\\n",
      "0   180388628218      0         612   123247  2024-06-04T06:05:15.000Z   \n",
      "1   455266534868     88         326   210035  2024-06-14T03:01:25.000Z   \n",
      "2  1056561957389    809       58352   712507  2024-06-13T04:52:55.000Z   \n",
      "3  1279900258736     92       32992   774301  2024-06-10T16:39:36.000Z   \n",
      "4   214748368522    148        4359   188041  2024-06-15T01:08:07.000Z   \n",
      "\n",
      "   DetectorId  AlertTitle           Category MitreTechniques   IncidentGrade  \\\n",
      "0           7           6      InitialAccess             NaN    TruePositive   \n",
      "1          58          43       Exfiltration             NaN   FalsePositive   \n",
      "2         423         298      InitialAccess           T1189   FalsePositive   \n",
      "3           2           2  CommandAndControl             NaN  BenignPositive   \n",
      "4           9          74          Execution             NaN    TruePositive   \n",
      "\n",
      "   ... ResourceType Roles OSFamily OSVersion  AntispamDirection  \\\n",
      "0  ...          NaN   NaN        5        66                NaN   \n",
      "1  ...          NaN   NaN        5        66                NaN   \n",
      "2  ...          NaN   NaN        5        66                NaN   \n",
      "3  ...          NaN   NaN        5        66                NaN   \n",
      "4  ...          NaN   NaN        5        66                NaN   \n",
      "\n",
      "   SuspicionLevel  LastVerdict  CountryCode  State   City  \n",
      "0             NaN          NaN           31      6      3  \n",
      "1             NaN          NaN          242   1445  10630  \n",
      "2      Suspicious   Suspicious          242   1445  10630  \n",
      "3      Suspicious   Suspicious          242   1445  10630  \n",
      "4             NaN          NaN          242   1445  10630  \n",
      "\n",
      "[5 rows x 45 columns]\n",
      "shape of data(9516837, 45)\n"
     ]
    }
   ],
   "source": [
    "# ✅ If your RAM memory leser then 16GB then you choose dask dataframe-------------\n",
    "import pandas as pd \n",
    "Train = pd.read_csv(\"D:\\mainboot\\Guvi Projects\\Microsoft\\Dataset\\GUIDE_Train.csv\\GUIDE_Train.csv\")\n",
    "print(Train.head())\n",
    "print(f'shape of data{Train.shape}')"
   ]
  },
  {
   "cell_type": "markdown",
   "metadata": {},
   "source": [
    "### DROP MISSING VALUES COLUMNS AND FILLING MISSING VALUES "
   ]
  },
  {
   "cell_type": "code",
   "execution_count": 2,
   "metadata": {},
   "outputs": [
    {
     "name": "stdout",
     "output_type": "stream",
     "text": [
      "Columns with more than 50% missing values and dropped:\n",
      "Index(['MitreTechniques', 'ActionGrouped', 'ActionGranular', 'EmailClusterId',\n",
      "       'ThreatFamily', 'ResourceType', 'Roles', 'AntispamDirection',\n",
      "       'SuspicionLevel', 'LastVerdict'],\n",
      "      dtype='object')\n",
      "<class 'pandas.core.frame.DataFrame'>\n",
      "RangeIndex: 9516837 entries, 0 to 9516836\n",
      "Data columns (total 35 columns):\n",
      " #   Column              Dtype \n",
      "---  ------              ----- \n",
      " 0   Id                  int64 \n",
      " 1   OrgId               int64 \n",
      " 2   IncidentId          int64 \n",
      " 3   AlertId             int64 \n",
      " 4   Timestamp           object\n",
      " 5   DetectorId          int64 \n",
      " 6   AlertTitle          int64 \n",
      " 7   Category            object\n",
      " 8   IncidentGrade       object\n",
      " 9   EntityType          object\n",
      " 10  EvidenceRole        object\n",
      " 11  DeviceId            int64 \n",
      " 12  Sha256              int64 \n",
      " 13  IpAddress           int64 \n",
      " 14  Url                 int64 \n",
      " 15  AccountSid          int64 \n",
      " 16  AccountUpn          int64 \n",
      " 17  AccountObjectId     int64 \n",
      " 18  AccountName         int64 \n",
      " 19  DeviceName          int64 \n",
      " 20  NetworkMessageId    int64 \n",
      " 21  RegistryKey         int64 \n",
      " 22  RegistryValueName   int64 \n",
      " 23  RegistryValueData   int64 \n",
      " 24  ApplicationId       int64 \n",
      " 25  ApplicationName     int64 \n",
      " 26  OAuthApplicationId  int64 \n",
      " 27  FileName            int64 \n",
      " 28  FolderPath          int64 \n",
      " 29  ResourceIdName      int64 \n",
      " 30  OSFamily            int64 \n",
      " 31  OSVersion           int64 \n",
      " 32  CountryCode         int64 \n",
      " 33  State               int64 \n",
      " 34  City                int64 \n",
      "dtypes: int64(30), object(5)\n",
      "memory usage: 2.5+ GB\n",
      "None\n",
      "duplicats                     Id  OrgId  IncidentId  AlertId                 Timestamp  \\\n",
      "0         180388628218      0         612   123247  2024-06-04T06:05:15.000Z   \n",
      "1         455266534868     88         326   210035  2024-06-14T03:01:25.000Z   \n",
      "2        1056561957389    809       58352   712507  2024-06-13T04:52:55.000Z   \n",
      "3        1279900258736     92       32992   774301  2024-06-10T16:39:36.000Z   \n",
      "4         214748368522    148        4359   188041  2024-06-15T01:08:07.000Z   \n",
      "...                ...    ...         ...      ...                       ...   \n",
      "9516832  1056561956622      0          90   496631  2024-06-08T15:26:08.000Z   \n",
      "9516833  1228360650033     59      196410   748366  2024-06-06T09:40:08.000Z   \n",
      "9516834   867583395122     44       14117     7425  2024-06-11T22:51:03.000Z   \n",
      "9516835   395136991850     43         644     8973  2024-05-20T23:01:01.000Z   \n",
      "9516836   678604833923     16      141721   644106  2024-06-03T23:51:52.000Z   \n",
      "\n",
      "         DetectorId  AlertTitle           Category   IncidentGrade  \\\n",
      "0                 7           6      InitialAccess    TruePositive   \n",
      "1                58          43       Exfiltration   FalsePositive   \n",
      "2               423         298      InitialAccess   FalsePositive   \n",
      "3                 2           2  CommandAndControl  BenignPositive   \n",
      "4                 9          74          Execution    TruePositive   \n",
      "...             ...         ...                ...             ...   \n",
      "9516832           7           6      InitialAccess    TruePositive   \n",
      "9516833           2           2  CommandAndControl  BenignPositive   \n",
      "9516834          78          57       Exfiltration  BenignPositive   \n",
      "9516835          52          10             Impact  BenignPositive   \n",
      "9516836          24         348       Exfiltration  BenignPositive   \n",
      "\n",
      "                EntityType  ... ApplicationName  OAuthApplicationId  FileName  \\\n",
      "0                       Ip  ...            3421                 881    289573   \n",
      "1                     User  ...            3421                 881    289573   \n",
      "2                      Url  ...            3421                 881    289573   \n",
      "3                      Url  ...            3421                 881    289573   \n",
      "4                     User  ...            3421                 881    289573   \n",
      "...                    ...  ...             ...                 ...       ...   \n",
      "9516832  CloudLogonRequest  ...            3421                 881    289573   \n",
      "9516833                Url  ...            3421                 881    289573   \n",
      "9516834        MailMessage  ...            3421                 881    289573   \n",
      "9516835                 Ip  ...            3421                 881    289573   \n",
      "9516836        MailMessage  ...            3421                 881    289573   \n",
      "\n",
      "         FolderPath  ResourceIdName  OSFamily  OSVersion  CountryCode  State  \\\n",
      "0            117668            3586         5         66           31      6   \n",
      "1            117668            3586         5         66          242   1445   \n",
      "2            117668            3586         5         66          242   1445   \n",
      "3            117668            3586         5         66          242   1445   \n",
      "4            117668            3586         5         66          242   1445   \n",
      "...             ...             ...       ...        ...          ...    ...   \n",
      "9516832      117668            3586         5         66          242   1445   \n",
      "9516833      117668            3586         5         66          242   1445   \n",
      "9516834      117668            3586         5         66          242   1445   \n",
      "9516835      117668            3586         5         66          242   1445   \n",
      "9516836      117668            3586         5         66          242   1445   \n",
      "\n",
      "          City  \n",
      "0            3  \n",
      "1        10630  \n",
      "2        10630  \n",
      "3        10630  \n",
      "4        10630  \n",
      "...        ...  \n",
      "9516832  10630  \n",
      "9516833  10630  \n",
      "9516834  10630  \n",
      "9516835  10630  \n",
      "9516836  10630  \n",
      "\n",
      "[8970539 rows x 35 columns]\n"
     ]
    }
   ],
   "source": [
    "# Calculate the percentage of missing values for each column\n",
    "missing_percentage = Train.isnull().sum() / len(Train) * 100\n",
    "\n",
    "# List columns with more than 50% missing values\n",
    "columns_to_drop = missing_percentage[missing_percentage > 50].index\n",
    "print(\"Columns with more than 50% missing values and dropped:\")\n",
    "print(columns_to_drop)\n",
    "Train.drop(columns=columns_to_drop, axis=1, inplace=True)\n",
    "print(Train.info())\n",
    "Train['IncidentGrade'] = Train['IncidentGrade'].fillna(Train['IncidentGrade'].mode()[0])\n",
    "Train = Train.drop_duplicates()\n",
    "print(f'duplicats {Train}')"
   ]
  },
  {
   "cell_type": "markdown",
   "metadata": {},
   "source": [
    "### REMOVE OUTLIERS"
   ]
  },
  {
   "cell_type": "code",
   "execution_count": 3,
   "metadata": {},
   "outputs": [],
   "source": [
    "numerical_columns = Train.select_dtypes(include=['int64','float64']).columns\n",
    "for col in numerical_columns:\n",
    "    q1 = Train[col].quantile(0.25)\n",
    "    q3 = Train[col].quantile(0.75)\n",
    "    iqr = q3 - q1\n",
    "    lower_bound = q1 - 2.5 * iqr\n",
    "    upper_bound = q3 + 2.5 * iqr\n",
    "    Train = Train[(Train[col] >= lower_bound) & (Train[col] <= upper_bound)]"
   ]
  },
  {
   "cell_type": "code",
   "execution_count": 4,
   "metadata": {},
   "outputs": [],
   "source": [
    "Train['Timestamp'] = pd.to_datetime(Train['Timestamp'])\n",
    "Train['Day'] = Train['Timestamp'].dt.day\n",
    "Train['Month'] = Train['Timestamp'].dt.month\n",
    "Train['Year'] = Train['Timestamp'].dt.year\n",
    "Train['Hours'] = Train['Timestamp'].dt.hour\n",
    "Train.drop(columns = 'Timestamp',inplace = True)"
   ]
  },
  {
   "cell_type": "code",
   "execution_count": 5,
   "metadata": {},
   "outputs": [
    {
     "name": "stdout",
     "output_type": "stream",
     "text": [
      "<class 'pandas.core.frame.DataFrame'>\n",
      "Index: 2975466 entries, 1 to 9516835\n",
      "Data columns (total 38 columns):\n",
      " #   Column              Dtype \n",
      "---  ------              ----- \n",
      " 0   Id                  int64 \n",
      " 1   OrgId               int64 \n",
      " 2   IncidentId          int64 \n",
      " 3   AlertId             int64 \n",
      " 4   DetectorId          int64 \n",
      " 5   AlertTitle          int64 \n",
      " 6   Category            object\n",
      " 7   IncidentGrade       object\n",
      " 8   EntityType          object\n",
      " 9   EvidenceRole        object\n",
      " 10  DeviceId            int64 \n",
      " 11  Sha256              int64 \n",
      " 12  IpAddress           int64 \n",
      " 13  Url                 int64 \n",
      " 14  AccountSid          int64 \n",
      " 15  AccountUpn          int64 \n",
      " 16  AccountObjectId     int64 \n",
      " 17  AccountName         int64 \n",
      " 18  DeviceName          int64 \n",
      " 19  NetworkMessageId    int64 \n",
      " 20  RegistryKey         int64 \n",
      " 21  RegistryValueName   int64 \n",
      " 22  RegistryValueData   int64 \n",
      " 23  ApplicationId       int64 \n",
      " 24  ApplicationName     int64 \n",
      " 25  OAuthApplicationId  int64 \n",
      " 26  FileName            int64 \n",
      " 27  FolderPath          int64 \n",
      " 28  ResourceIdName      int64 \n",
      " 29  OSFamily            int64 \n",
      " 30  OSVersion           int64 \n",
      " 31  CountryCode         int64 \n",
      " 32  State               int64 \n",
      " 33  City                int64 \n",
      " 34  Day                 int32 \n",
      " 35  Month               int32 \n",
      " 36  Year                int32 \n",
      " 37  Hours               int32 \n",
      "dtypes: int32(4), int64(30), object(4)\n",
      "memory usage: 839.9+ MB\n"
     ]
    }
   ],
   "source": [
    "Train.info()"
   ]
  },
  {
   "cell_type": "code",
   "execution_count": 6,
   "metadata": {},
   "outputs": [],
   "source": [
    "columns = ['City','State','CountryCode','OSVersion']\n",
    "for col in columns:\n",
    "  Train[col] = Train[col].astype(str)"
   ]
  },
  {
   "cell_type": "markdown",
   "metadata": {},
   "source": [
    "# TEST DATASET CLEANING"
   ]
  },
  {
   "cell_type": "code",
   "execution_count": 7,
   "metadata": {},
   "outputs": [
    {
     "name": "stderr",
     "output_type": "stream",
     "text": [
      "C:\\Users\\sures\\AppData\\Local\\Temp\\ipykernel_20888\\1521276978.py:1: DtypeWarning: Columns (10,11) have mixed types. Specify dtype option on import or set low_memory=False.\n",
      "  Test = pd.read_csv(r\"D:\\mainboot\\Guvi Projects\\Microsoft\\Dataset\\GUIDE_Test.csv\\GUIDE_Test.csv\")\n"
     ]
    },
    {
     "name": "stdout",
     "output_type": "stream",
     "text": [
      "<class 'pandas.core.frame.DataFrame'>\n",
      "RangeIndex: 4147992 entries, 0 to 4147991\n",
      "Data columns (total 46 columns):\n",
      " #   Column              Dtype  \n",
      "---  ------              -----  \n",
      " 0   Id                  int64  \n",
      " 1   OrgId               int64  \n",
      " 2   IncidentId          int64  \n",
      " 3   AlertId             int64  \n",
      " 4   Timestamp           object \n",
      " 5   DetectorId          int64  \n",
      " 6   AlertTitle          int64  \n",
      " 7   Category            object \n",
      " 8   MitreTechniques     object \n",
      " 9   IncidentGrade       object \n",
      " 10  ActionGrouped       object \n",
      " 11  ActionGranular      object \n",
      " 12  EntityType          object \n",
      " 13  EvidenceRole        object \n",
      " 14  DeviceId            int64  \n",
      " 15  Sha256              int64  \n",
      " 16  IpAddress           int64  \n",
      " 17  Url                 int64  \n",
      " 18  AccountSid          int64  \n",
      " 19  AccountUpn          int64  \n",
      " 20  AccountObjectId     int64  \n",
      " 21  AccountName         int64  \n",
      " 22  DeviceName          int64  \n",
      " 23  NetworkMessageId    int64  \n",
      " 24  EmailClusterId      float64\n",
      " 25  RegistryKey         int64  \n",
      " 26  RegistryValueName   int64  \n",
      " 27  RegistryValueData   int64  \n",
      " 28  ApplicationId       int64  \n",
      " 29  ApplicationName     int64  \n",
      " 30  OAuthApplicationId  int64  \n",
      " 31  ThreatFamily        object \n",
      " 32  FileName            int64  \n",
      " 33  FolderPath          int64  \n",
      " 34  ResourceIdName      int64  \n",
      " 35  ResourceType        object \n",
      " 36  Roles               object \n",
      " 37  OSFamily            int64  \n",
      " 38  OSVersion           int64  \n",
      " 39  AntispamDirection   object \n",
      " 40  SuspicionLevel      object \n",
      " 41  LastVerdict         object \n",
      " 42  CountryCode         int64  \n",
      " 43  State               int64  \n",
      " 44  City                int64  \n",
      " 45  Usage               object \n",
      "dtypes: float64(1), int64(30), object(15)\n",
      "memory usage: 1.4+ GB\n",
      "Id                          0\n",
      "OrgId                       0\n",
      "IncidentId                  0\n",
      "AlertId                     0\n",
      "Timestamp                   0\n",
      "DetectorId                  0\n",
      "AlertTitle                  0\n",
      "Category                    0\n",
      "MitreTechniques       2307104\n",
      "IncidentGrade               0\n",
      "ActionGrouped         4146079\n",
      "ActionGranular        4146079\n",
      "EntityType                  0\n",
      "EvidenceRole                0\n",
      "DeviceId                    0\n",
      "Sha256                      0\n",
      "IpAddress                   0\n",
      "Url                         0\n",
      "AccountSid                  0\n",
      "AccountUpn                  0\n",
      "AccountObjectId             0\n",
      "AccountName                 0\n",
      "DeviceName                  0\n",
      "NetworkMessageId            0\n",
      "EmailClusterId        4106285\n",
      "RegistryKey                 0\n",
      "RegistryValueName           0\n",
      "RegistryValueData           0\n",
      "ApplicationId               0\n",
      "ApplicationName             0\n",
      "OAuthApplicationId          0\n",
      "ThreatFamily          4116614\n",
      "FileName                    0\n",
      "FolderPath                  0\n",
      "ResourceIdName              0\n",
      "ResourceType          4144998\n",
      "Roles                 4039317\n",
      "OSFamily                    0\n",
      "OSVersion                   0\n",
      "AntispamDirection     4071481\n",
      "SuspicionLevel        3498157\n",
      "LastVerdict           3155260\n",
      "CountryCode                 0\n",
      "State                       0\n",
      "City                        0\n",
      "Usage                       0\n",
      "dtype: int64\n"
     ]
    }
   ],
   "source": [
    "Test = pd.read_csv(r\"D:\\mainboot\\Guvi Projects\\Microsoft\\Dataset\\GUIDE_Test.csv\\GUIDE_Test.csv\")\n",
    "Test.info()\n",
    "print(Test.isna().sum())"
   ]
  },
  {
   "cell_type": "code",
   "execution_count": 8,
   "metadata": {},
   "outputs": [
    {
     "name": "stdout",
     "output_type": "stream",
     "text": [
      "Columns with more than 50% missing values and dropped:\n",
      "Index(['MitreTechniques', 'ActionGrouped', 'ActionGranular', 'EmailClusterId',\n",
      "       'ThreatFamily', 'ResourceType', 'Roles', 'AntispamDirection',\n",
      "       'SuspicionLevel', 'LastVerdict'],\n",
      "      dtype='object')\n",
      "<class 'pandas.core.frame.DataFrame'>\n",
      "RangeIndex: 4147992 entries, 0 to 4147991\n",
      "Data columns (total 36 columns):\n",
      " #   Column              Dtype \n",
      "---  ------              ----- \n",
      " 0   Id                  int64 \n",
      " 1   OrgId               int64 \n",
      " 2   IncidentId          int64 \n",
      " 3   AlertId             int64 \n",
      " 4   Timestamp           object\n",
      " 5   DetectorId          int64 \n",
      " 6   AlertTitle          int64 \n",
      " 7   Category            object\n",
      " 8   IncidentGrade       object\n",
      " 9   EntityType          object\n",
      " 10  EvidenceRole        object\n",
      " 11  DeviceId            int64 \n",
      " 12  Sha256              int64 \n",
      " 13  IpAddress           int64 \n",
      " 14  Url                 int64 \n",
      " 15  AccountSid          int64 \n",
      " 16  AccountUpn          int64 \n",
      " 17  AccountObjectId     int64 \n",
      " 18  AccountName         int64 \n",
      " 19  DeviceName          int64 \n",
      " 20  NetworkMessageId    int64 \n",
      " 21  RegistryKey         int64 \n",
      " 22  RegistryValueName   int64 \n",
      " 23  RegistryValueData   int64 \n",
      " 24  ApplicationId       int64 \n",
      " 25  ApplicationName     int64 \n",
      " 26  OAuthApplicationId  int64 \n",
      " 27  FileName            int64 \n",
      " 28  FolderPath          int64 \n",
      " 29  ResourceIdName      int64 \n",
      " 30  OSFamily            int64 \n",
      " 31  OSVersion           int64 \n",
      " 32  CountryCode         int64 \n",
      " 33  State               int64 \n",
      " 34  City                int64 \n",
      " 35  Usage               object\n",
      "dtypes: int64(30), object(6)\n",
      "memory usage: 1.1+ GB\n",
      "None\n",
      "duplicats                     Id  OrgId  IncidentId  AlertId                 Timestamp  \\\n",
      "0        1245540519230    657       11767    87199  2024-06-04T22:56:27.000Z   \n",
      "1        1400159342154      3       91158   632273  2024-06-03T12:58:26.000Z   \n",
      "2        1279900255923    145       32247   131719  2024-06-08T03:20:49.000Z   \n",
      "3          60129547292    222       15294   917686  2024-06-12T12:07:31.000Z   \n",
      "4         515396080539    363        7615     5944  2024-06-06T17:42:05.000Z   \n",
      "...                ...    ...         ...      ...                       ...   \n",
      "4147985   171798692464     42         391   638112  2024-06-03T20:24:41.000Z   \n",
      "4147987   541165881145    262        3017   227156  2024-06-04T03:53:15.000Z   \n",
      "4147988   438086666953   1323       31001   304819  2024-06-04T19:32:19.000Z   \n",
      "4147989  1297080124487     47        3653     7243  2024-06-15T00:50:22.000Z   \n",
      "4147990   627065226886     70        4243    19142  2024-06-11T16:18:12.000Z   \n",
      "\n",
      "         DetectorId  AlertTitle           Category   IncidentGrade  \\\n",
      "0               524         563    LateralMovement  BenignPositive   \n",
      "1                 2           2  CommandAndControl  BenignPositive   \n",
      "2              2932       10807    LateralMovement  BenignPositive   \n",
      "3                 0           0      InitialAccess   FalsePositive   \n",
      "4                27          18          Discovery  BenignPositive   \n",
      "...             ...         ...                ...             ...   \n",
      "4147985         135        7322            Malware  BenignPositive   \n",
      "4147987         139         120      InitialAccess  BenignPositive   \n",
      "4147988         219         196      InitialAccess  BenignPositive   \n",
      "4147989          57          29  CommandAndControl   FalsePositive   \n",
      "4147990           1           1      InitialAccess  BenignPositive   \n",
      "\n",
      "                EntityType  ... OAuthApplicationId  FileName  FolderPath  \\\n",
      "0                     User  ...                881    289573      117668   \n",
      "1                  Machine  ...                881    289573      117668   \n",
      "2                  Process  ...                881        14          22   \n",
      "3        CloudLogonSession  ...                881    289573      117668   \n",
      "4                     User  ...                881    289573      117668   \n",
      "...                    ...  ...                ...       ...         ...   \n",
      "4147985            Machine  ...                881    289573      117668   \n",
      "4147987               User  ...                881    289573      117668   \n",
      "4147988               User  ...                881    289573      117668   \n",
      "4147989                 Ip  ...                881    289573      117668   \n",
      "4147990            Mailbox  ...                881    289573      117668   \n",
      "\n",
      "         ResourceIdName  OSFamily  OSVersion  CountryCode  State   City  \\\n",
      "0                  3586         5         66          242   1445  10630   \n",
      "1                  3586         0          0          242   1445  10630   \n",
      "2                  3586         5         66          242   1445  10630   \n",
      "3                  3586         5         66          242   1445  10630   \n",
      "4                  3586         5         66          242   1445  10630   \n",
      "...                 ...       ...        ...          ...    ...    ...   \n",
      "4147985            3586         0          0          242   1445  10630   \n",
      "4147987            3586         5         66          242   1445  10630   \n",
      "4147988            3586         5         66          242   1445  10630   \n",
      "4147989            3586         5         66          242   1445  10630   \n",
      "4147990            3586         5         66          242   1445  10630   \n",
      "\n",
      "           Usage  \n",
      "0        Private  \n",
      "1         Public  \n",
      "2         Public  \n",
      "3         Public  \n",
      "4         Public  \n",
      "...          ...  \n",
      "4147985   Public  \n",
      "4147987   Public  \n",
      "4147988  Private  \n",
      "4147989   Public  \n",
      "4147990  Private  \n",
      "\n",
      "[3922695 rows x 36 columns]\n"
     ]
    }
   ],
   "source": [
    "# Calculate the percentage of missing values for each column\n",
    "missing_percentage = Test.isnull().sum() / len(Test) * 100\n",
    "\n",
    "# List columns with more than 50% missing values\n",
    "columns_to_drop = missing_percentage[missing_percentage > 50].index\n",
    "print(\"Columns with more than 50% missing values and dropped:\")\n",
    "print(columns_to_drop)\n",
    "Test.drop(columns=columns_to_drop, axis=1, inplace=True)\n",
    "print(Test.info())\n",
    "Test = Test.drop_duplicates()\n",
    "print(f'duplicats {Test}')"
   ]
  },
  {
   "cell_type": "code",
   "execution_count": 9,
   "metadata": {},
   "outputs": [],
   "source": [
    "Test = Test.drop('Usage',axis = 1)\n",
    "numerical_columns = Test.select_dtypes(include=['int64','float64'])\n",
    "for col in numerical_columns:\n",
    "    q1 = Test[col].quantile(0.25)\n",
    "    q3 = Test[col].quantile(0.75)\n",
    "    iqr = q3 - q1\n",
    "    lower_bound = q1 - 2.5 * iqr\n",
    "    upper_bound = q3 + 2.5 * iqr\n",
    "    Test = Test[(Test[col] >= lower_bound) & (Test[col] <= upper_bound)]"
   ]
  },
  {
   "cell_type": "code",
   "execution_count": 10,
   "metadata": {},
   "outputs": [],
   "source": [
    "Test['Timestamp'] = pd.to_datetime(Test['Timestamp'])\n",
    "Test['Day'] = Test['Timestamp'].dt.day\n",
    "Test['Month'] = Test['Timestamp'].dt.month\n",
    "Test['Year'] = Test['Timestamp'].dt.year\n",
    "Test['Hours'] = Test['Timestamp'].dt.hour\n",
    "Test.drop(columns = 'Timestamp',inplace = True)"
   ]
  },
  {
   "cell_type": "code",
   "execution_count": 11,
   "metadata": {},
   "outputs": [],
   "source": [
    "merged_data = pd.concat([Train,Test],axis = 0,ignore_index=True)"
   ]
  },
  {
   "cell_type": "code",
   "execution_count": 15,
   "metadata": {},
   "outputs": [
    {
     "data": {
      "text/plain": [
       "(4265164, 38)"
      ]
     },
     "execution_count": 15,
     "metadata": {},
     "output_type": "execute_result"
    }
   ],
   "source": [
    "merged_data.shape"
   ]
  },
  {
   "cell_type": "markdown",
   "metadata": {},
   "source": [
    "# EDA "
   ]
  },
  {
   "cell_type": "code",
   "execution_count": 16,
   "metadata": {},
   "outputs": [
    {
     "data": {
      "text/html": [
       "<div>\n",
       "<style scoped>\n",
       "    .dataframe tbody tr th:only-of-type {\n",
       "        vertical-align: middle;\n",
       "    }\n",
       "\n",
       "    .dataframe tbody tr th {\n",
       "        vertical-align: top;\n",
       "    }\n",
       "\n",
       "    .dataframe thead th {\n",
       "        text-align: right;\n",
       "    }\n",
       "</style>\n",
       "<table border=\"1\" class=\"dataframe\">\n",
       "  <thead>\n",
       "    <tr style=\"text-align: right;\">\n",
       "      <th></th>\n",
       "      <th>Id</th>\n",
       "      <th>OrgId</th>\n",
       "      <th>IncidentId</th>\n",
       "      <th>AlertId</th>\n",
       "      <th>DetectorId</th>\n",
       "      <th>AlertTitle</th>\n",
       "      <th>DeviceId</th>\n",
       "      <th>Sha256</th>\n",
       "      <th>IpAddress</th>\n",
       "      <th>Url</th>\n",
       "      <th>...</th>\n",
       "      <th>ApplicationName</th>\n",
       "      <th>OAuthApplicationId</th>\n",
       "      <th>FileName</th>\n",
       "      <th>FolderPath</th>\n",
       "      <th>ResourceIdName</th>\n",
       "      <th>OSFamily</th>\n",
       "      <th>Day</th>\n",
       "      <th>Month</th>\n",
       "      <th>Year</th>\n",
       "      <th>Hours</th>\n",
       "    </tr>\n",
       "  </thead>\n",
       "  <tbody>\n",
       "    <tr>\n",
       "      <th>count</th>\n",
       "      <td>4.265164e+06</td>\n",
       "      <td>4.265164e+06</td>\n",
       "      <td>4.265164e+06</td>\n",
       "      <td>4.265164e+06</td>\n",
       "      <td>4.265164e+06</td>\n",
       "      <td>4.265164e+06</td>\n",
       "      <td>4265164.0</td>\n",
       "      <td>4265164.0</td>\n",
       "      <td>4.265164e+06</td>\n",
       "      <td>4265164.0</td>\n",
       "      <td>...</td>\n",
       "      <td>4265164.0</td>\n",
       "      <td>4265164.0</td>\n",
       "      <td>4265164.0</td>\n",
       "      <td>4265164.0</td>\n",
       "      <td>4265164.0</td>\n",
       "      <td>4265164.0</td>\n",
       "      <td>4.265164e+06</td>\n",
       "      <td>4.265164e+06</td>\n",
       "      <td>4.265164e+06</td>\n",
       "      <td>4.265164e+06</td>\n",
       "    </tr>\n",
       "    <tr>\n",
       "      <th>mean</th>\n",
       "      <td>8.384498e+11</td>\n",
       "      <td>7.431667e+01</td>\n",
       "      <td>2.890025e+04</td>\n",
       "      <td>3.869600e+05</td>\n",
       "      <td>1.708568e+01</td>\n",
       "      <td>2.015890e+01</td>\n",
       "      <td>98799.0</td>\n",
       "      <td>138268.0</td>\n",
       "      <td>2.721314e+05</td>\n",
       "      <td>160396.0</td>\n",
       "      <td>...</td>\n",
       "      <td>3421.0</td>\n",
       "      <td>881.0</td>\n",
       "      <td>289573.0</td>\n",
       "      <td>117668.0</td>\n",
       "      <td>3586.0</td>\n",
       "      <td>5.0</td>\n",
       "      <td>9.816061e+00</td>\n",
       "      <td>5.878197e+00</td>\n",
       "      <td>2.024000e+03</td>\n",
       "      <td>1.182875e+01</td>\n",
       "    </tr>\n",
       "    <tr>\n",
       "      <th>std</th>\n",
       "      <td>4.956006e+11</td>\n",
       "      <td>1.086880e+02</td>\n",
       "      <td>5.815024e+04</td>\n",
       "      <td>4.363777e+05</td>\n",
       "      <td>2.834775e+01</td>\n",
       "      <td>3.616988e+01</td>\n",
       "      <td>0.0</td>\n",
       "      <td>0.0</td>\n",
       "      <td>1.496398e+05</td>\n",
       "      <td>0.0</td>\n",
       "      <td>...</td>\n",
       "      <td>0.0</td>\n",
       "      <td>0.0</td>\n",
       "      <td>0.0</td>\n",
       "      <td>0.0</td>\n",
       "      <td>0.0</td>\n",
       "      <td>0.0</td>\n",
       "      <td>6.764934e+00</td>\n",
       "      <td>3.299879e-01</td>\n",
       "      <td>4.079977e-03</td>\n",
       "      <td>6.899900e+00</td>\n",
       "    </tr>\n",
       "    <tr>\n",
       "      <th>min</th>\n",
       "      <td>1.200000e+01</td>\n",
       "      <td>0.000000e+00</td>\n",
       "      <td>0.000000e+00</td>\n",
       "      <td>0.000000e+00</td>\n",
       "      <td>0.000000e+00</td>\n",
       "      <td>0.000000e+00</td>\n",
       "      <td>98799.0</td>\n",
       "      <td>138268.0</td>\n",
       "      <td>4.000000e+00</td>\n",
       "      <td>160396.0</td>\n",
       "      <td>...</td>\n",
       "      <td>3421.0</td>\n",
       "      <td>881.0</td>\n",
       "      <td>289573.0</td>\n",
       "      <td>117668.0</td>\n",
       "      <td>3586.0</td>\n",
       "      <td>5.0</td>\n",
       "      <td>1.000000e+00</td>\n",
       "      <td>1.000000e+00</td>\n",
       "      <td>2.023000e+03</td>\n",
       "      <td>0.000000e+00</td>\n",
       "    </tr>\n",
       "    <tr>\n",
       "      <th>25%</th>\n",
       "      <td>4.037269e+11</td>\n",
       "      <td>2.000000e+00</td>\n",
       "      <td>2.110000e+02</td>\n",
       "      <td>1.054000e+04</td>\n",
       "      <td>0.000000e+00</td>\n",
       "      <td>0.000000e+00</td>\n",
       "      <td>98799.0</td>\n",
       "      <td>138268.0</td>\n",
       "      <td>1.343385e+05</td>\n",
       "      <td>160396.0</td>\n",
       "      <td>...</td>\n",
       "      <td>3421.0</td>\n",
       "      <td>881.0</td>\n",
       "      <td>289573.0</td>\n",
       "      <td>117668.0</td>\n",
       "      <td>3586.0</td>\n",
       "      <td>5.0</td>\n",
       "      <td>5.000000e+00</td>\n",
       "      <td>6.000000e+00</td>\n",
       "      <td>2.024000e+03</td>\n",
       "      <td>6.000000e+00</td>\n",
       "    </tr>\n",
       "    <tr>\n",
       "      <th>50%</th>\n",
       "      <td>8.332237e+11</td>\n",
       "      <td>2.300000e+01</td>\n",
       "      <td>1.121000e+03</td>\n",
       "      <td>1.987460e+05</td>\n",
       "      <td>5.000000e+00</td>\n",
       "      <td>5.000000e+00</td>\n",
       "      <td>98799.0</td>\n",
       "      <td>138268.0</td>\n",
       "      <td>3.606060e+05</td>\n",
       "      <td>160396.0</td>\n",
       "      <td>...</td>\n",
       "      <td>3421.0</td>\n",
       "      <td>881.0</td>\n",
       "      <td>289573.0</td>\n",
       "      <td>117668.0</td>\n",
       "      <td>3586.0</td>\n",
       "      <td>5.0</td>\n",
       "      <td>8.000000e+00</td>\n",
       "      <td>6.000000e+00</td>\n",
       "      <td>2.024000e+03</td>\n",
       "      <td>1.200000e+01</td>\n",
       "    </tr>\n",
       "    <tr>\n",
       "      <th>75%</th>\n",
       "      <td>1.271310e+12</td>\n",
       "      <td>1.000000e+02</td>\n",
       "      <td>2.149500e+04</td>\n",
       "      <td>5.940042e+05</td>\n",
       "      <td>1.900000e+01</td>\n",
       "      <td>2.000000e+01</td>\n",
       "      <td>98799.0</td>\n",
       "      <td>138268.0</td>\n",
       "      <td>3.606060e+05</td>\n",
       "      <td>160396.0</td>\n",
       "      <td>...</td>\n",
       "      <td>3421.0</td>\n",
       "      <td>881.0</td>\n",
       "      <td>289573.0</td>\n",
       "      <td>117668.0</td>\n",
       "      <td>3586.0</td>\n",
       "      <td>5.0</td>\n",
       "      <td>1.200000e+01</td>\n",
       "      <td>6.000000e+00</td>\n",
       "      <td>2.024000e+03</td>\n",
       "      <td>1.800000e+01</td>\n",
       "    </tr>\n",
       "    <tr>\n",
       "      <th>max</th>\n",
       "      <td>1.709397e+12</td>\n",
       "      <td>5.200000e+02</td>\n",
       "      <td>2.822150e+05</td>\n",
       "      <td>1.719796e+06</td>\n",
       "      <td>1.690000e+02</td>\n",
       "      <td>2.680000e+02</td>\n",
       "      <td>98799.0</td>\n",
       "      <td>138268.0</td>\n",
       "      <td>3.606060e+05</td>\n",
       "      <td>160396.0</td>\n",
       "      <td>...</td>\n",
       "      <td>3421.0</td>\n",
       "      <td>881.0</td>\n",
       "      <td>289573.0</td>\n",
       "      <td>117668.0</td>\n",
       "      <td>3586.0</td>\n",
       "      <td>5.0</td>\n",
       "      <td>3.100000e+01</td>\n",
       "      <td>1.200000e+01</td>\n",
       "      <td>2.024000e+03</td>\n",
       "      <td>2.300000e+01</td>\n",
       "    </tr>\n",
       "  </tbody>\n",
       "</table>\n",
       "<p>8 rows × 30 columns</p>\n",
       "</div>"
      ],
      "text/plain": [
       "                 Id         OrgId    IncidentId       AlertId    DetectorId  \\\n",
       "count  4.265164e+06  4.265164e+06  4.265164e+06  4.265164e+06  4.265164e+06   \n",
       "mean   8.384498e+11  7.431667e+01  2.890025e+04  3.869600e+05  1.708568e+01   \n",
       "std    4.956006e+11  1.086880e+02  5.815024e+04  4.363777e+05  2.834775e+01   \n",
       "min    1.200000e+01  0.000000e+00  0.000000e+00  0.000000e+00  0.000000e+00   \n",
       "25%    4.037269e+11  2.000000e+00  2.110000e+02  1.054000e+04  0.000000e+00   \n",
       "50%    8.332237e+11  2.300000e+01  1.121000e+03  1.987460e+05  5.000000e+00   \n",
       "75%    1.271310e+12  1.000000e+02  2.149500e+04  5.940042e+05  1.900000e+01   \n",
       "max    1.709397e+12  5.200000e+02  2.822150e+05  1.719796e+06  1.690000e+02   \n",
       "\n",
       "         AlertTitle   DeviceId     Sha256     IpAddress        Url  ...  \\\n",
       "count  4.265164e+06  4265164.0  4265164.0  4.265164e+06  4265164.0  ...   \n",
       "mean   2.015890e+01    98799.0   138268.0  2.721314e+05   160396.0  ...   \n",
       "std    3.616988e+01        0.0        0.0  1.496398e+05        0.0  ...   \n",
       "min    0.000000e+00    98799.0   138268.0  4.000000e+00   160396.0  ...   \n",
       "25%    0.000000e+00    98799.0   138268.0  1.343385e+05   160396.0  ...   \n",
       "50%    5.000000e+00    98799.0   138268.0  3.606060e+05   160396.0  ...   \n",
       "75%    2.000000e+01    98799.0   138268.0  3.606060e+05   160396.0  ...   \n",
       "max    2.680000e+02    98799.0   138268.0  3.606060e+05   160396.0  ...   \n",
       "\n",
       "       ApplicationName  OAuthApplicationId   FileName  FolderPath  \\\n",
       "count        4265164.0           4265164.0  4265164.0   4265164.0   \n",
       "mean            3421.0               881.0   289573.0    117668.0   \n",
       "std                0.0                 0.0        0.0         0.0   \n",
       "min             3421.0               881.0   289573.0    117668.0   \n",
       "25%             3421.0               881.0   289573.0    117668.0   \n",
       "50%             3421.0               881.0   289573.0    117668.0   \n",
       "75%             3421.0               881.0   289573.0    117668.0   \n",
       "max             3421.0               881.0   289573.0    117668.0   \n",
       "\n",
       "       ResourceIdName   OSFamily           Day         Month          Year  \\\n",
       "count       4265164.0  4265164.0  4.265164e+06  4.265164e+06  4.265164e+06   \n",
       "mean           3586.0        5.0  9.816061e+00  5.878197e+00  2.024000e+03   \n",
       "std               0.0        0.0  6.764934e+00  3.299879e-01  4.079977e-03   \n",
       "min            3586.0        5.0  1.000000e+00  1.000000e+00  2.023000e+03   \n",
       "25%            3586.0        5.0  5.000000e+00  6.000000e+00  2.024000e+03   \n",
       "50%            3586.0        5.0  8.000000e+00  6.000000e+00  2.024000e+03   \n",
       "75%            3586.0        5.0  1.200000e+01  6.000000e+00  2.024000e+03   \n",
       "max            3586.0        5.0  3.100000e+01  1.200000e+01  2.024000e+03   \n",
       "\n",
       "              Hours  \n",
       "count  4.265164e+06  \n",
       "mean   1.182875e+01  \n",
       "std    6.899900e+00  \n",
       "min    0.000000e+00  \n",
       "25%    6.000000e+00  \n",
       "50%    1.200000e+01  \n",
       "75%    1.800000e+01  \n",
       "max    2.300000e+01  \n",
       "\n",
       "[8 rows x 30 columns]"
      ]
     },
     "execution_count": 16,
     "metadata": {},
     "output_type": "execute_result"
    }
   ],
   "source": [
    "merged_data.describe()"
   ]
  },
  {
   "cell_type": "code",
   "execution_count": 17,
   "metadata": {},
   "outputs": [
    {
     "data": {
      "image/png": "[encoded data removed]",
      "text/plain": [
       "<Figure size 640x480 with 1 Axes>"
      ]
     },
     "metadata": {},
     "output_type": "display_data"
    }
   ],
   "source": [
    "import seaborn as se\n",
    "import matplotlib.pyplot as plt\n",
    "se.barplot(x=merged_data['IncidentGrade'].value_counts().index,\n",
    "           y=merged_data['IncidentGrade'].value_counts().values)\n",
    "plt.show()"
   ]
  },
  {
   "cell_type": "code",
   "execution_count": 19,
   "metadata": {},
   "outputs": [
    {
     "data": {
      "image/png": "[encoded data removed]",
      "text/plain": [
       "<Figure size 640x480 with 1 Axes>"
      ]
     },
     "metadata": {},
     "output_type": "display_data"
    }
   ],
   "source": [
    "new = merged_data['Category'].value_counts()\n",
    "se.barplot(x = new.values,y = new.index)\n",
    "plt.xlabel('Counts')\n",
    "plt.ylabel('Category')\n",
    "plt.show()"
   ]
  },
  {
   "cell_type": "code",
   "execution_count": 20,
   "metadata": {},
   "outputs": [
    {
     "data": {
      "image/png": "[encoded data removed]",
      "text/plain": [
       "<Figure size 640x480 with 1 Axes>"
      ]
     },
     "metadata": {},
     "output_type": "display_data"
    }
   ],
   "source": [
    "new = merged_data['EntityType'].value_counts()\n",
    "se.barplot(x = new.values,y =new.index)\n",
    "plt.show()"
   ]
  },
  {
   "cell_type": "code",
   "execution_count": 21,
   "metadata": {},
   "outputs": [
    {
     "data": {
      "image/png": "[encoded data removed]",
      "text/plain": [
       "<Figure size 640x480 with 1 Axes>"
      ]
     },
     "metadata": {},
     "output_type": "display_data"
    }
   ],
   "source": [
    "new = merged_data['EvidenceRole'].value_counts()\n",
    "se.barplot(x = new.index,y = new.values)\n",
    "plt.show()"
   ]
  },
  {
   "cell_type": "code",
   "execution_count": 22,
   "metadata": {},
   "outputs": [
    {
     "name": "stdout",
     "output_type": "stream",
     "text": [
      "Chi-Square Statistic: 664231.1328987258\n",
      "P-value: 0.0\n",
      "Degrees of Freedom: 11\n",
      "Expected Frequencies:\n",
      " [[1.20333345e+05 1.37745655e+05]\n",
      " [6.59812367e+04 7.55287633e+04]\n",
      " [2.26810210e+04 2.59629790e+04]\n",
      " [2.11745170e+04 2.42384830e+04]\n",
      " [4.94423317e+04 5.65966683e+04]\n",
      " [2.69136863e+05 3.08081137e+05]\n",
      " [1.21742865e+06 1.39359135e+06]\n",
      " [2.92301868e+03 3.34598132e+03]\n",
      " [1.32647884e+04 1.51842116e+04]\n",
      " [2.87219573e+02 3.28780427e+02]\n",
      " [2.04264872e+05 2.33822128e+05]\n",
      " [1.78113437e+03 2.03886563e+03]]\n",
      "Reject the null hypothesis - Variables are dependent.\n"
     ]
    }
   ],
   "source": [
    "import pandas as pd\n",
    "from scipy.stats import chi2_contingency\n",
    "contingency_table = pd.crosstab(merged_data['Category'], merged_data['EvidenceRole'])\n",
    "\n",
    "chi2, p, dof, expected = chi2_contingency(contingency_table)\n",
    "\n",
    "print(\"Chi-Square Statistic:\", chi2)\n",
    "print(\"P-value:\", p)\n",
    "print(\"Degrees of Freedom:\", dof)\n",
    "print(\"Expected Frequencies:\\n\", expected)\n",
    "\n",
    "if p < 0.05:\n",
    "    print(\"Reject the null hypothesis - Variables are dependent.\")\n",
    "else:\n",
    "    print(\"Fail to reject the null hypothesis - Variables are independent.\")\n"
   ]
  },
  {
   "cell_type": "code",
   "execution_count": 23,
   "metadata": {},
   "outputs": [
    {
     "name": "stdout",
     "output_type": "stream",
     "text": [
      "Chi-Square Statistic: 945672.7433337054\n",
      "P-value: 0.0\n",
      "Degrees of Freedom: 22\n",
      "Expected Frequencies:\n",
      " [[7.48841430e+04 4.29285958e+04 1.40266261e+05]\n",
      " [4.10605089e+04 2.35386281e+04 7.69108630e+04]\n",
      " [1.41145318e+04 8.09139301e+03 2.64380752e+04]\n",
      " [1.31770256e+04 7.55395179e+03 2.46820226e+04]\n",
      " [3.07682517e+04 1.76384184e+04 5.76323299e+04]\n",
      " [1.67485441e+05 9.60138494e+04 3.13718709e+05]\n",
      " [7.57612959e+05 4.34314386e+05 1.41909265e+06]\n",
      " [1.81901159e+03 1.04277902e+03 3.40720939e+03]\n",
      " [8.25475526e+03 4.73217745e+03 1.54620673e+04]\n",
      " [1.78738418e+02 1.02464807e+02 3.34796775e+02]\n",
      " [1.27115223e+05 7.28709417e+04 2.38100836e+05]\n",
      " [1.10841032e+03 6.35414877e+02 2.07617481e+03]]\n",
      "Reject the null hypothesis - Variables are dependent.\n"
     ]
    }
   ],
   "source": [
    "import pandas as pd\n",
    "from scipy.stats import chi2_contingency\n",
    "contingency_table = pd.crosstab(merged_data['Category'], merged_data['IncidentGrade'])\n",
    "\n",
    "chi2, p, dof, expected = chi2_contingency(contingency_table)\n",
    "\n",
    "print(\"Chi-Square Statistic:\", chi2)\n",
    "print(\"P-value:\", p)\n",
    "print(\"Degrees of Freedom:\", dof)\n",
    "print(\"Expected Frequencies:\\n\", expected)\n",
    "\n",
    "if p < 0.05:\n",
    "    print(\"Reject the null hypothesis - Variables are dependent.\")\n",
    "else:\n",
    "    print(\"Fail to reject the null hypothesis - Variables are independent.\")"
   ]
  },
  {
   "cell_type": "code",
   "execution_count": 24,
   "metadata": {},
   "outputs": [
    {
     "name": "stdout",
     "output_type": "stream",
     "text": [
      "Chi-Square Statistic: 3692750.6355378507\n",
      "P-value: 0.0\n",
      "Degrees of Freedom: 132\n",
      "Expected Frequencies:\n",
      " [[4.76766433e+04 1.23412081e+04 4.23560032e-01 6.11136617e+01\n",
      "  6.86057126e+04 2.02098644e+01 7.02952331e+03 9.11380172e+02\n",
      "  2.09533938e+04 6.05085760e-01 4.08432888e+01 4.41712605e+00\n",
      "  1.00433526e+05]\n",
      " [2.61420797e+04 6.76693712e+03 2.32246638e-01 3.35098721e+01\n",
      "  3.76179170e+04 1.10814824e+01 3.85443156e+03 4.99728409e+02\n",
      "  1.14891748e+04 3.31780912e-01 2.23952115e+01 2.42200065e+00\n",
      "  5.50697588e+04]\n",
      " [8.98632836e+03 2.32613165e+03 7.98346793e-02 1.15190037e+01\n",
      "  1.29311423e+04 3.80925470e+00 1.32495915e+03 1.71781420e+02\n",
      "  3.94939877e+03 1.14049542e-01 7.69834407e+00 8.32561655e-01\n",
      "  1.89302053e+04]\n",
      " [8.38944433e+03 2.17162685e+03 7.45319523e-02 1.07538960e+01\n",
      "  1.20722384e+04 3.55623887e+00 1.23695358e+03 1.60371467e+02\n",
      "  3.68707439e+03 1.06474218e-01 7.18700969e+00 7.77261789e-01\n",
      "  1.76728355e+04]\n",
      " [1.95892869e+04 5.07073171e+03 1.74031526e-01 2.51102631e+01\n",
      "  2.81885824e+04 8.30378996e+00 2.88827693e+03 3.74466121e+02\n",
      "  8.60928987e+03 2.48616466e-01 1.67816114e+01 1.81490020e+00\n",
      "  4.12659328e+04]\n",
      " [1.06633305e+05 2.76022748e+04 9.47331920e-01 1.36686463e+02\n",
      "  1.53443140e+05 4.52012659e+01 1.57221912e+04 2.03838762e+03\n",
      "  4.68642394e+04 1.35333131e+00 9.13498637e+01 9.87931859e+00\n",
      "  2.24629044e+05]\n",
      " [4.82351021e+05 1.24857665e+05 4.28521389e+00 6.18295146e+02\n",
      "  6.94093234e+05 2.04465920e+02 7.11186340e+04 9.22055594e+03\n",
      "  2.11988307e+05 6.12173412e+00 4.13217053e+02 4.46886591e+01\n",
      "  1.01609951e+06]\n",
      " [1.15811390e+03 2.99780431e+02 1.02887017e-02 1.48451267e+00\n",
      "  1.66650217e+03 4.90918051e-01 1.70754233e+02 2.21383464e+01\n",
      "  5.08979132e+02 1.46981453e-02 9.92124805e-01 1.07296460e-01\n",
      "  2.43963195e+03]\n",
      " [5.25557223e+03 1.36041689e+03 4.66905845e-02 6.73678433e+00\n",
      "  7.56266073e+03 2.22780789e+00 7.74890280e+02 1.00464798e+02\n",
      "  2.30976987e+03 6.67008350e-02 4.50230636e+00 4.86916095e-01\n",
      "  1.10711580e+04]\n",
      " [1.13797761e+02 2.94568106e+01 1.01098105e-03 1.45870124e-01\n",
      "  1.63752645e+02 4.82382389e-02 1.67785304e+01 2.17534238e+00\n",
      "  5.00129439e+01 1.44425865e-03 9.74874589e-02 1.05430881e-02\n",
      "  2.39721372e+02]\n",
      " [8.09307136e+04 2.09491003e+04 7.18989704e-01 1.03739943e+02\n",
      "  1.16457638e+05 3.43060801e+01 1.19325585e+04 1.54706042e+03\n",
      "  3.55682152e+04 1.02712815e+00 6.93311500e+01 7.49803548e+00\n",
      "  1.70485092e+05]\n",
      " [7.05693905e+02 1.82670481e+02 6.26939550e-03 9.04584208e-01\n",
      "  1.01547907e+03 2.99139728e-01 1.04048679e+02 1.34899479e+01\n",
      "  3.10145204e+02 8.95627929e-03 6.04548852e-01 6.53808388e-02\n",
      "  1.48658384e+03]]\n",
      "Reject the null hypothesis - Variables are dependent.\n"
     ]
    }
   ],
   "source": [
    "import pandas as pd\n",
    "from scipy.stats import chi2_contingency\n",
    "contingency_table = pd.crosstab(merged_data['Category'],merged_data['EntityType'])\n",
    "\n",
    "chi2, p, dof, expected = chi2_contingency(contingency_table)\n",
    "\n",
    "print(\"Chi-Square Statistic:\", chi2)\n",
    "print(\"P-value:\", p)\n",
    "print(\"Degrees of Freedom:\", dof)\n",
    "print(\"Expected Frequencies:\\n\", expected)\n",
    "\n",
    "if p < 0.05:\n",
    "    print(\"Reject the null hypothesis - Variables are dependent.\")\n",
    "else:\n",
    "    print(\"Fail to reject the null hypothesis - Variables are independent.\")"
   ]
  },
  {
   "cell_type": "code",
   "execution_count": 25,
   "metadata": {},
   "outputs": [
    {
     "name": "stdout",
     "output_type": "stream",
     "text": [
      "Chi-Square Statistic: 27555.033016002842\n",
      "P-value: 0.0\n",
      "Degrees of Freedom: 2\n",
      "Expected Frequencies:\n",
      " [[ 577040.44199027  660538.55800973]\n",
      " [ 330798.14952883  378664.85047117]\n",
      " [1080860.40848089 1237261.59151911]]\n",
      "Reject the null hypothesis - Variables are dependent.\n"
     ]
    }
   ],
   "source": [
    "import pandas as pd\n",
    "from scipy.stats import chi2_contingency\n",
    "contingency_table = pd.crosstab(merged_data['IncidentGrade'], merged_data['EvidenceRole'])\n",
    "\n",
    "chi2, p, dof, expected = chi2_contingency(contingency_table)\n",
    "\n",
    "print(\"Chi-Square Statistic:\", chi2)\n",
    "print(\"P-value:\", p)\n",
    "print(\"Degrees of Freedom:\", dof)\n",
    "print(\"Expected Frequencies:\\n\", expected)\n",
    "\n",
    "if p < 0.05:\n",
    "    print(\"Reject the null hypothesis - Variables are dependent.\")\n",
    "else:\n",
    "    print(\"Fail to reject the null hypothesis - Variables are independent.\")"
   ]
  },
  {
   "cell_type": "code",
   "execution_count": 29,
   "metadata": {},
   "outputs": [
    {
     "name": "stdout",
     "output_type": "stream",
     "text": [
      "Requirement already satisfied: scikit-learn in c:\\users\\sures\\appdata\\local\\programs\\python\\python312\\lib\\site-packages (1.6.0)\n",
      "Requirement already satisfied: numpy>=1.19.5 in c:\\users\\sures\\appdata\\local\\programs\\python\\python312\\lib\\site-packages (from scikit-learn) (2.0.1)\n",
      "Requirement already satisfied: scipy>=1.6.0 in c:\\users\\sures\\appdata\\local\\programs\\python\\python312\\lib\\site-packages (from scikit-learn) (1.14.1)\n",
      "Requirement already satisfied: joblib>=1.2.0 in c:\\users\\sures\\appdata\\local\\programs\\python\\python312\\lib\\site-packages (from scikit-learn) (1.4.2)\n",
      "Requirement already satisfied: threadpoolctl>=3.1.0 in c:\\users\\sures\\appdata\\local\\programs\\python\\python312\\lib\\site-packages (from scikit-learn) (3.5.0)\n"
     ]
    },
    {
     "name": "stderr",
     "output_type": "stream",
     "text": [
      "WARNING: Ignoring invalid distribution ~ip (c:\\Users\\sures\\AppData\\Local\\Programs\\Python\\Python312\\Lib\\site-packages)\n",
      "WARNING: Ignoring invalid distribution ~ip (c:\\Users\\sures\\AppData\\Local\\Programs\\Python\\Python312\\Lib\\site-packages)\n",
      "WARNING: Ignoring invalid distribution ~ip (c:\\Users\\sures\\AppData\\Local\\Programs\\Python\\Python312\\Lib\\site-packages)\n",
      "WARNING: Ignoring invalid distribution ~ip (c:\\Users\\sures\\AppData\\Local\\Programs\\Python\\Python312\\Lib\\site-packages)\n",
      "\n",
      "[notice] A new release of pip is available: 24.3.1 -> 25.0\n",
      "[notice] To update, run: python.exe -m pip install --upgrade pip\n"
     ]
    }
   ],
   "source": [
    "!pip install scikit-learn\n"
   ]
  },
  {
   "cell_type": "code",
   "execution_count": 23,
   "metadata": {},
   "outputs": [
    {
     "name": "stdout",
     "output_type": "stream",
     "text": [
      "Requirement already satisfied: imblearn in c:\\users\\sures\\appdata\\local\\programs\\python\\python312\\lib\\site-packages (0.0)\n",
      "Requirement already satisfied: imbalanced-learn in c:\\users\\sures\\appdata\\local\\programs\\python\\python312\\lib\\site-packages (from imblearn) (0.13.0)\n",
      "Requirement already satisfied: numpy<3,>=1.24.3 in c:\\users\\sures\\appdata\\local\\programs\\python\\python312\\lib\\site-packages (from imbalanced-learn->imblearn) (2.0.1)\n",
      "Requirement already satisfied: scipy<2,>=1.10.1 in c:\\users\\sures\\appdata\\local\\programs\\python\\python312\\lib\\site-packages (from imbalanced-learn->imblearn) (1.14.1)\n",
      "Requirement already satisfied: scikit-learn<2,>=1.3.2 in c:\\users\\sures\\appdata\\local\\programs\\python\\python312\\lib\\site-packages (from imbalanced-learn->imblearn) (1.6.0)\n",
      "Requirement already satisfied: sklearn-compat<1,>=0.1 in c:\\users\\sures\\appdata\\local\\programs\\python\\python312\\lib\\site-packages (from imbalanced-learn->imblearn) (0.1.3)\n",
      "Requirement already satisfied: joblib<2,>=1.1.1 in c:\\users\\sures\\appdata\\local\\programs\\python\\python312\\lib\\site-packages (from imbalanced-learn->imblearn) (1.4.2)\n",
      "Requirement already satisfied: threadpoolctl<4,>=2.0.0 in c:\\users\\sures\\appdata\\local\\programs\\python\\python312\\lib\\site-packages (from imbalanced-learn->imblearn) (3.5.0)\n"
     ]
    },
    {
     "name": "stderr",
     "output_type": "stream",
     "text": [
      "WARNING: Ignoring invalid distribution ~ip (c:\\Users\\sures\\AppData\\Local\\Programs\\Python\\Python312\\Lib\\site-packages)\n",
      "WARNING: Ignoring invalid distribution ~ip (c:\\Users\\sures\\AppData\\Local\\Programs\\Python\\Python312\\Lib\\site-packages)\n",
      "WARNING: Ignoring invalid distribution ~ip (c:\\Users\\sures\\AppData\\Local\\Programs\\Python\\Python312\\Lib\\site-packages)\n",
      "WARNING: Ignoring invalid distribution ~ip (c:\\Users\\sures\\AppData\\Local\\Programs\\Python\\Python312\\Lib\\site-packages)\n"
     ]
    }
   ],
   "source": [
    "!pip install imblearn"
   ]
  },
  {
   "cell_type": "code",
   "execution_count": 26,
   "metadata": {},
   "outputs": [
    {
     "name": "stdout",
     "output_type": "stream",
     "text": [
      "<class 'pandas.core.frame.DataFrame'>\n",
      "RangeIndex: 4265164 entries, 0 to 4265163\n",
      "Data columns (total 38 columns):\n",
      " #   Column              Dtype \n",
      "---  ------              ----- \n",
      " 0   Id                  int64 \n",
      " 1   OrgId               int64 \n",
      " 2   IncidentId          int64 \n",
      " 3   AlertId             int64 \n",
      " 4   DetectorId          int64 \n",
      " 5   AlertTitle          int64 \n",
      " 6   Category            object\n",
      " 7   IncidentGrade       object\n",
      " 8   EntityType          object\n",
      " 9   EvidenceRole        object\n",
      " 10  DeviceId            int64 \n",
      " 11  Sha256              int64 \n",
      " 12  IpAddress           int64 \n",
      " 13  Url                 int64 \n",
      " 14  AccountSid          int64 \n",
      " 15  AccountUpn          int64 \n",
      " 16  AccountObjectId     int64 \n",
      " 17  AccountName         int64 \n",
      " 18  DeviceName          int64 \n",
      " 19  NetworkMessageId    int64 \n",
      " 20  RegistryKey         int64 \n",
      " 21  RegistryValueName   int64 \n",
      " 22  RegistryValueData   int64 \n",
      " 23  ApplicationId       int64 \n",
      " 24  ApplicationName     int64 \n",
      " 25  OAuthApplicationId  int64 \n",
      " 26  FileName            int64 \n",
      " 27  FolderPath          int64 \n",
      " 28  ResourceIdName      int64 \n",
      " 29  OSFamily            int64 \n",
      " 30  OSVersion           object\n",
      " 31  CountryCode         object\n",
      " 32  State               object\n",
      " 33  City                object\n",
      " 34  Day                 int32 \n",
      " 35  Month               int32 \n",
      " 36  Year                int32 \n",
      " 37  Hours               int32 \n",
      "dtypes: int32(4), int64(26), object(8)\n",
      "memory usage: 1.1+ GB\n"
     ]
    }
   ],
   "source": [
    "merged_data.info()"
   ]
  },
  {
   "cell_type": "markdown",
   "metadata": {},
   "source": [
    "### PREPROCESSING "
   ]
  },
  {
   "cell_type": "code",
   "execution_count": 27,
   "metadata": {},
   "outputs": [],
   "source": [
    "from sklearn.preprocessing import LabelEncoder,OrdinalEncoder,OneHotEncoder\n",
    "le = LabelEncoder()\n",
    "\n",
    "columns_to_encode = ['State', 'City', 'OSVersion', 'CountryCode']\n",
    "merged_data[columns_to_encode] = merged_data[columns_to_encode].astype(str)\n",
    "merged_data= pd.get_dummies(merged_data, columns=columns_to_encode)\n",
    "le_variable = ['Category','IncidentGrade','EvidenceRole','EntityType']\n",
    "for col in le_variable:\n",
    "  if col in merged_data.columns:\n",
    "    merged_data[col] = le.fit_transform(merged_data[col])\n",
    "merged_data.drop_duplicates(inplace=True)"
   ]
  },
  {
   "cell_type": "code",
   "execution_count": 28,
   "metadata": {},
   "outputs": [],
   "source": [
    "from sklearn.preprocessing import StandardScaler\n",
    "from sklearn.model_selection import train_test_split\n",
    "from imblearn.over_sampling import SMOTE\n",
    "import pandas as pd\n",
    "\n",
    "X = merged_data.drop(columns=['IncidentGrade'])  \n",
    "y = merged_data['IncidentGrade']\n",
    "\n",
    "X_train, X_test, y_train, y_test = train_test_split(X, y, test_size=0.2, stratify=y, random_state=42)\n",
    "\n",
    "smote = SMOTE(random_state=42)\n",
    "X_train_resampled, y_train_resampled = smote.fit_resample(X_train, y_train)\n",
    "\n",
    "scaler = StandardScaler()\n",
    "# Fit the scaler on training data and transform both train & test\n",
    "X_train_scaled = scaler.fit_transform(X_train_resampled)\n",
    "X_test_scaled = scaler.transform(X_test)\n",
    "\n",
    "X_train_scaled_df = pd.DataFrame(X_train_scaled, columns=X.columns)\n",
    "X_test_scaled_df = pd.DataFrame(X_test_scaled, columns=X.columns)\n",
    "\n",
    "# Add target column back\n",
    "train_final = pd.concat([X_train_scaled_df, y_train_resampled.reset_index(drop=True)], axis=1)\n",
    "test_final = pd.concat([X_test_scaled_df, y_test.reset_index(drop=True)], axis=1)"
   ]
  },
  {
   "cell_type": "code",
   "execution_count": 37,
   "metadata": {},
   "outputs": [
    {
     "name": "stderr",
     "output_type": "stream",
     "text": [
      "<>:2: SyntaxWarning: invalid escape sequence '\\m'\n",
      "<>:3: SyntaxWarning: invalid escape sequence '\\m'\n",
      "<>:2: SyntaxWarning: invalid escape sequence '\\m'\n",
      "<>:3: SyntaxWarning: invalid escape sequence '\\m'\n",
      "C:\\Users\\sures\\AppData\\Local\\Temp\\ipykernel_20888\\2571420924.py:2: SyntaxWarning: invalid escape sequence '\\m'\n",
      "  train_final.to_csv('D:\\mainboot\\Guvi Projects\\Microsoft\\data\\Train_data.csv', index=False)\n",
      "C:\\Users\\sures\\AppData\\Local\\Temp\\ipykernel_20888\\2571420924.py:3: SyntaxWarning: invalid escape sequence '\\m'\n",
      "  test_final.to_csv('D:\\mainboot\\Guvi Projects\\Microsoft\\data\\Test_data.csv', index=False)\n"
     ]
    },
    {
     "name": "stdout",
     "output_type": "stream",
     "text": [
      "Train and Test datasets saved successfully as CSV files!\n"
     ]
    }
   ],
   "source": [
    "# Save as CSV\n",
    "train_final.to_csv('D:\\mainboot\\Guvi Projects\\Microsoft\\data\\Train_data.csv', index=False)\n",
    "test_final.to_csv('D:\\mainboot\\Guvi Projects\\Microsoft\\data\\Test_data.csv', index=False)\n",
    "\n",
    "print(\"Train and Test datasets saved successfully as CSV files!\")"
   ]
  },
  {
   "cell_type": "code",
   "execution_count": 2,
   "metadata": {},
   "outputs": [],
   "source": [
    "import pandas as pd\n",
    "train =pd.read_csv(r'D:\\mainboot\\Guvi Projects\\Microsoft\\data\\Train_data.csv')\n",
    "test = pd.read_csv(r'D:\\mainboot\\Guvi Projects\\Microsoft\\data\\Test_data.csv')"
   ]
  },
  {
   "cell_type": "markdown",
   "metadata": {},
   "source": [
    "# MODEL DEVELOPMENT"
   ]
  },
  {
   "cell_type": "code",
   "execution_count": 3,
   "metadata": {},
   "outputs": [],
   "source": [
    "import pandas as pd\n",
    "from dask_ml.wrappers import ParallelPostFit\n",
    "from dask_ml.preprocessing import LabelEncoder,StandardScaler,OrdinalEncoder\n",
    "from dask_ml.model_selection import GridSearchCV\n",
    "from sklearn.linear_model import LogisticRegression\n",
    "from sklearn.ensemble import RandomForestClassifier\n",
    "from xgboost import XGBClassifier\n",
    "from sklearn.tree import DecisionTreeClassifier\n",
    "import dask.dataframe as dd\n",
    "from sklearn.metrics import classification_report,confusion_matrix,accuracy_score\n",
    "from sklearn.feature_selection import SelectKBest,f_classif\n",
    "from sklearn.model_selection import cross_val_score"
   ]
  },
  {
   "cell_type": "code",
   "execution_count": 1,
   "metadata": {},
   "outputs": [],
   "source": [
    "import pandas as pd\n",
    "train = pd.read_csv(r'D:\\mainboot\\Guvi Projects\\Microsoft\\data\\Train_data.csv')\n",
    "test = pd.read_csv(r'D:\\mainboot\\Guvi Projects\\Microsoft\\data\\Test_data.csv')\n",
    "X_train = train.drop('IncidentGrade',axis = 1)\n",
    "y_train = train['IncidentGrade']\n",
    "X_test = test.drop('IncidentGrade',axis=1)\n",
    "y_test = test['IncidentGrade']"
   ]
  },
  {
   "cell_type": "code",
   "execution_count": 2,
   "metadata": {},
   "outputs": [
    {
     "data": {
      "text/plain": [
       "(5563494, 38)"
      ]
     },
     "execution_count": 2,
     "metadata": {},
     "output_type": "execute_result"
    }
   ],
   "source": [
    "train.shape"
   ]
  },
  {
   "cell_type": "markdown",
   "metadata": {},
   "source": [
    "\n",
    "### IF DON'T HAVE TO MUCH OF RAM THEN DO THIS STEPS"
   ]
  },
  {
   "cell_type": "code",
   "execution_count": 3,
   "metadata": {},
   "outputs": [
    {
     "name": "stdout",
     "output_type": "stream",
     "text": [
      "IncidentGrade\n",
      "0    260000\n",
      "1    260000\n",
      "2    260000\n",
      "Name: count, dtype: int64\n"
     ]
    },
    {
     "name": "stderr",
     "output_type": "stream",
     "text": [
      "C:\\Users\\sures\\AppData\\Local\\Temp\\ipykernel_31212\\2898808796.py:4: DeprecationWarning: DataFrameGroupBy.apply operated on the grouping columns. This behavior is deprecated, and in a future version of pandas the grouping columns will be excluded from the operation. Either pass `include_groups=False` to exclude the groupings or explicitly select the grouping columns after groupby to silence this warning.\n",
      "  .apply(lambda x: x.sample(n=260000, random_state=42))\n"
     ]
    }
   ],
   "source": [
    "# Select 260,000 samples each class\n",
    "df_balanced_train = (\n",
    "    train.groupby('IncidentGrade', group_keys=False)  # Avoids multi-index issues\n",
    "         .apply(lambda x: x.sample(n=260000, random_state=42))\n",
    "         .reset_index(drop=True)\n",
    ")\n",
    "\n",
    "# Check new class distribution\n",
    "print(df_balanced_train['IncidentGrade'].value_counts())\n"
   ]
  },
  {
   "cell_type": "code",
   "execution_count": 4,
   "metadata": {},
   "outputs": [],
   "source": [
    "# Split Feature and Target on Train dataset\n",
    "X_train = df_balanced_train.drop(columns=['IncidentGrade'])\n",
    "y_train = df_balanced_train['IncidentGrade']"
   ]
  },
  {
   "cell_type": "code",
   "execution_count": 12,
   "metadata": {},
   "outputs": [
    {
     "name": "stdout",
     "output_type": "stream",
     "text": [
      "\n",
      "Training Logistic Regression...\n",
      "Accuracy: 0.6657\n",
      "Classification Report:\n",
      "               precision    recall  f1-score   support\n",
      "\n",
      "           0       0.61      0.54      0.57    247516\n",
      "           1       0.38      0.64      0.47    141893\n",
      "           2       0.87      0.74      0.80    463624\n",
      "\n",
      "    accuracy                           0.67    853033\n",
      "   macro avg       0.62      0.64      0.62    853033\n",
      "weighted avg       0.71      0.67      0.68    853033\n",
      "\n",
      "\n",
      "Training Random Forest...\n",
      "Accuracy: 0.9697\n",
      "Classification Report:\n",
      "               precision    recall  f1-score   support\n",
      "\n",
      "           0       0.93      0.98      0.96    247516\n",
      "           1       0.96      0.96      0.96    141893\n",
      "           2       1.00      0.97      0.98    463624\n",
      "\n",
      "    accuracy                           0.97    853033\n",
      "   macro avg       0.96      0.97      0.96    853033\n",
      "weighted avg       0.97      0.97      0.97    853033\n",
      "\n",
      "\n",
      "Training XGBoost...\n"
     ]
    },
    {
     "name": "stderr",
     "output_type": "stream",
     "text": [
      "c:\\Users\\sures\\AppData\\Local\\Programs\\Python\\Python312\\Lib\\site-packages\\xgboost\\core.py:158: UserWarning: [13:12:28] WARNING: C:\\buildkite-agent\\builds\\buildkite-windows-cpu-autoscaling-group-i-0c55ff5f71b100e98-1\\xgboost\\xgboost-ci-windows\\src\\learner.cc:740: \n",
      "Parameters: { \"use_label_encoder\" } are not used.\n",
      "\n",
      "  warnings.warn(smsg, UserWarning)\n"
     ]
    },
    {
     "name": "stdout",
     "output_type": "stream",
     "text": [
      "Accuracy: 0.9545\n",
      "Classification Report:\n",
      "               precision    recall  f1-score   support\n",
      "\n",
      "           0       0.91      0.96      0.94    247516\n",
      "           1       0.93      0.94      0.93    141893\n",
      "           2       0.99      0.95      0.97    463624\n",
      "\n",
      "    accuracy                           0.95    853033\n",
      "   macro avg       0.94      0.95      0.95    853033\n",
      "weighted avg       0.96      0.95      0.95    853033\n",
      "\n"
     ]
    }
   ],
   "source": [
    "from sklearn.linear_model import LogisticRegression\n",
    "from sklearn.ensemble import RandomForestClassifier\n",
    "from xgboost import XGBClassifier\n",
    "from sklearn.metrics import accuracy_score, classification_report\n",
    "\n",
    "# Define models\n",
    "models = {\n",
    "    \"Logistic Regression\": LogisticRegression(max_iter=1000, random_state=42),\n",
    "    \"Random Forest\": RandomForestClassifier(n_estimators=100, random_state=42),\n",
    "    \"XGBoost\": XGBClassifier(use_label_encoder=False, eval_metric='mlogloss', random_state=42)\n",
    "}\n",
    "\n",
    "# Train and evaluate each model\n",
    "for name, model in models.items():\n",
    "    print(f\"\\nTraining {name}...\")\n",
    "    model.fit(X_train, y_train)  # Train on SMOTE data\n",
    "    \n",
    "    y_pred = model.predict(X_test)  # Predict on original test set\n",
    "    \n",
    "    # Evaluate\n",
    "    accuracy = accuracy_score(y_test, y_pred)\n",
    "    print(f\"Accuracy: {accuracy:.4f}\")\n",
    "    print(\"Classification Report:\\n\", classification_report(y_test, y_pred))\n"
   ]
  },
  {
   "cell_type": "code",
   "execution_count": 6,
   "metadata": {},
   "outputs": [
    {
     "name": "stdout",
     "output_type": "stream",
     "text": [
      "Best Parameters: {'max_depth': None, 'min_samples_leaf': 1, 'min_samples_split': 2, 'n_estimators': 200}\n",
      "Accuracy: 0.9700\n",
      "Classification Report:\n",
      "               precision    recall  f1-score   support\n",
      "\n",
      "           0       0.93      0.98      0.96    247516\n",
      "           1       0.96      0.96      0.96    141893\n",
      "           2       1.00      0.97      0.98    463624\n",
      "\n",
      "    accuracy                           0.97    853033\n",
      "   macro avg       0.96      0.97      0.97    853033\n",
      "weighted avg       0.97      0.97      0.97    853033\n",
      "\n"
     ]
    }
   ],
   "source": [
    "import numpy as np\n",
    "import pandas as pd\n",
    "from sklearn.model_selection import train_test_split, GridSearchCV\n",
    "from sklearn.ensemble import RandomForestClassifier\n",
    "from sklearn.metrics import classification_report, f1_score, accuracy_score\n",
    "# Define hyperparameters to tune\n",
    "param_grid = {\n",
    "    'n_estimators': [100, 200],\n",
    "    'max_depth': [10, 20, None],\n",
    "    'min_samples_split': [2, 5],\n",
    "    'min_samples_leaf': [1, 2]\n",
    "}\n",
    "\n",
    "rf = RandomForestClassifier(random_state=42)\n",
    "grid_search = GridSearchCV(rf, param_grid, cv=5, scoring='accuracy', n_jobs=-1)\n",
    "grid_search.fit(X_train, y_train)\n",
    "best_rf = grid_search.best_estimator_\n",
    "print(\"Best Parameters:\", grid_search.best_params_)\n",
    "y_pred = best_rf.predict(X_test)\n",
    "    \n",
    "# Evaluate\n",
    "accuracy = accuracy_score(y_test, y_pred)\n",
    "print(f\"Accuracy: {accuracy:.4f}\")\n",
    "print(\"Classification Report:\\n\", classification_report(y_test, y_pred))\n"
   ]
  },
  {
   "cell_type": "code",
   "execution_count": 7,
   "metadata": {},
   "outputs": [
    {
     "name": "stdout",
     "output_type": "stream",
     "text": [
      "Collecting optuna\n",
      "  Downloading optuna-4.2.1-py3-none-any.whl.metadata (17 kB)\n",
      "Collecting alembic>=1.5.0 (from optuna)\n",
      "  Downloading alembic-1.14.1-py3-none-any.whl.metadata (7.4 kB)\n",
      "Collecting colorlog (from optuna)\n",
      "  Downloading colorlog-6.9.0-py3-none-any.whl.metadata (10 kB)\n",
      "Requirement already satisfied: numpy in c:\\users\\sures\\appdata\\local\\programs\\python\\python312\\lib\\site-packages (from optuna) (2.0.1)\n",
      "Requirement already satisfied: packaging>=20.0 in c:\\users\\sures\\appdata\\roaming\\python\\python312\\site-packages (from optuna) (24.1)\n",
      "Requirement already satisfied: sqlalchemy>=1.4.2 in c:\\users\\sures\\appdata\\local\\programs\\python\\python312\\lib\\site-packages (from optuna) (2.0.34)\n",
      "Collecting tqdm (from optuna)\n",
      "  Downloading tqdm-4.67.1-py3-none-any.whl.metadata (57 kB)\n",
      "Requirement already satisfied: PyYAML in c:\\users\\sures\\appdata\\local\\programs\\python\\python312\\lib\\site-packages (from optuna) (6.0.2)\n",
      "Collecting Mako (from alembic>=1.5.0->optuna)\n",
      "  Downloading Mako-1.3.9-py3-none-any.whl.metadata (2.9 kB)\n",
      "Requirement already satisfied: typing-extensions>=4 in c:\\users\\sures\\appdata\\local\\programs\\python\\python312\\lib\\site-packages (from alembic>=1.5.0->optuna) (4.12.2)\n",
      "Requirement already satisfied: greenlet!=0.4.17 in c:\\users\\sures\\appdata\\local\\programs\\python\\python312\\lib\\site-packages (from sqlalchemy>=1.4.2->optuna) (3.0.3)\n",
      "Requirement already satisfied: colorama in c:\\users\\sures\\appdata\\roaming\\python\\python312\\site-packages (from colorlog->optuna) (0.4.6)\n",
      "Requirement already satisfied: MarkupSafe>=0.9.2 in c:\\users\\sures\\appdata\\local\\programs\\python\\python312\\lib\\site-packages (from Mako->alembic>=1.5.0->optuna) (2.1.5)\n",
      "Downloading optuna-4.2.1-py3-none-any.whl (383 kB)\n",
      "Downloading alembic-1.14.1-py3-none-any.whl (233 kB)\n",
      "Downloading colorlog-6.9.0-py3-none-any.whl (11 kB)\n",
      "Downloading tqdm-4.67.1-py3-none-any.whl (78 kB)\n",
      "Downloading Mako-1.3.9-py3-none-any.whl (78 kB)\n",
      "Installing collected packages: tqdm, Mako, colorlog, alembic, optuna\n",
      "Successfully installed Mako-1.3.9 alembic-1.14.1 colorlog-6.9.0 optuna-4.2.1 tqdm-4.67.1\n"
     ]
    },
    {
     "name": "stderr",
     "output_type": "stream",
     "text": [
      "WARNING: Ignoring invalid distribution ~ip (c:\\Users\\sures\\AppData\\Local\\Programs\\Python\\Python312\\Lib\\site-packages)\n",
      "WARNING: Ignoring invalid distribution ~ip (c:\\Users\\sures\\AppData\\Local\\Programs\\Python\\Python312\\Lib\\site-packages)\n",
      "WARNING: Ignoring invalid distribution ~ip (c:\\Users\\sures\\AppData\\Local\\Programs\\Python\\Python312\\Lib\\site-packages)\n",
      "WARNING: Ignoring invalid distribution ~ip (c:\\Users\\sures\\AppData\\Local\\Programs\\Python\\Python312\\Lib\\site-packages)\n",
      "\n",
      "[notice] A new release of pip is available: 24.3.1 -> 25.0.1\n",
      "[notice] To update, run: python.exe -m pip install --upgrade pip\n"
     ]
    }
   ],
   "source": [
    "!pip install optuna"
   ]
  },
  {
   "cell_type": "code",
   "execution_count": 8,
   "metadata": {},
   "outputs": [
    {
     "name": "stderr",
     "output_type": "stream",
     "text": [
      "c:\\Users\\sures\\AppData\\Local\\Programs\\Python\\Python312\\Lib\\site-packages\\tqdm\\auto.py:21: TqdmWarning: IProgress not found. Please update jupyter and ipywidgets. See https://ipywidgets.readthedocs.io/en/stable/user_install.html\n",
      "  from .autonotebook import tqdm as notebook_tqdm\n",
      "[I 2025-03-01 06:21:30,714] A new study created in memory with name: no-name-3b5a1a01-9f06-4985-97b2-d31597a5f15b\n",
      "[I 2025-03-01 06:24:15,426] Trial 0 finished with value: 0.9443858046456267 and parameters: {'n_estimators': 288, 'max_depth': 34, 'min_samples_split': 7, 'min_samples_leaf': 5, 'max_features': 'log2'}. Best is trial 0 with value: 0.9443858046456267.\n",
      "[I 2025-03-01 06:29:47,447] Trial 1 finished with value: 0.9478748748456916 and parameters: {'n_estimators': 489, 'max_depth': 23, 'min_samples_split': 6, 'min_samples_leaf': 1, 'max_features': 'sqrt'}. Best is trial 1 with value: 0.9478748748456916.\n",
      "[I 2025-03-01 06:32:28,010] Trial 2 finished with value: 0.9608883083608125 and parameters: {'n_estimators': 240, 'max_depth': 49, 'min_samples_split': 3, 'min_samples_leaf': 2, 'max_features': 'sqrt'}. Best is trial 2 with value: 0.9608883083608125.\n",
      "[I 2025-03-01 06:34:48,651] Trial 3 finished with value: 0.9509862984102361 and parameters: {'n_estimators': 248, 'max_depth': 38, 'min_samples_split': 6, 'min_samples_leaf': 3, 'max_features': 'log2'}. Best is trial 2 with value: 0.9608883083608125.\n",
      "[I 2025-03-01 06:36:29,569] Trial 4 finished with value: 0.8917705407292221 and parameters: {'n_estimators': 231, 'max_depth': 14, 'min_samples_split': 5, 'min_samples_leaf': 5, 'max_features': 'log2'}. Best is trial 2 with value: 0.9608883083608125.\n",
      "[I 2025-03-01 06:38:13,243] Trial 5 finished with value: 0.9577469955242965 and parameters: {'n_estimators': 168, 'max_depth': 38, 'min_samples_split': 9, 'min_samples_leaf': 1, 'max_features': 'log2'}. Best is trial 2 with value: 0.9608883083608125.\n",
      "[I 2025-03-01 06:40:03,621] Trial 6 finished with value: 0.9479304280711166 and parameters: {'n_estimators': 174, 'max_depth': 24, 'min_samples_split': 3, 'min_samples_leaf': 2, 'max_features': 'sqrt'}. Best is trial 2 with value: 0.9608883083608125.\n",
      "[I 2025-03-01 06:41:37,520] Trial 7 finished with value: 0.9628637695275923 and parameters: {'n_estimators': 137, 'max_depth': 33, 'min_samples_split': 4, 'min_samples_leaf': 1, 'max_features': 'sqrt'}. Best is trial 7 with value: 0.9628637695275923.\n",
      "[I 2025-03-01 06:44:23,530] Trial 8 finished with value: 0.9561019499713619 and parameters: {'n_estimators': 272, 'max_depth': 29, 'min_samples_split': 4, 'min_samples_leaf': 1, 'max_features': 'log2'}. Best is trial 7 with value: 0.9628637695275923.\n",
      "[I 2025-03-01 06:48:34,384] Trial 9 finished with value: 0.9376731764128614 and parameters: {'n_estimators': 429, 'max_depth': 21, 'min_samples_split': 3, 'min_samples_leaf': 3, 'max_features': 'sqrt'}. Best is trial 7 with value: 0.9628637695275923.\n"
     ]
    },
    {
     "name": "stdout",
     "output_type": "stream",
     "text": [
      "Best Hyperparameters: {'n_estimators': 137, 'max_depth': 33, 'min_samples_split': 4, 'min_samples_leaf': 1, 'max_features': 'sqrt'}\n",
      "Accuracy: 0.9676\n",
      "F1 Score (Macro): 0.9629\n"
     ]
    }
   ],
   "source": [
    "import optuna\n",
    "import numpy as np\n",
    "import pandas as pd\n",
    "from sklearn.model_selection import train_test_split\n",
    "from sklearn.ensemble import RandomForestClassifier\n",
    "from sklearn.metrics import f1_score, accuracy_score\n",
    "\n",
    "# Define Optuna Objective Function\n",
    "def objective(trial):\n",
    "    # Define hyperparameter search space\n",
    "    n_estimators = trial.suggest_int('n_estimators', 100, 500)\n",
    "    max_depth = trial.suggest_int('max_depth', 10, 50)\n",
    "    min_samples_split = trial.suggest_int('min_samples_split', 2, 10)\n",
    "    min_samples_leaf = trial.suggest_int('min_samples_leaf', 1, 5)\n",
    "    max_features = trial.suggest_categorical('max_features', ['sqrt', 'log2'])\n",
    "    \n",
    "    # Initialize Model\n",
    "    rf = RandomForestClassifier(\n",
    "        n_estimators=n_estimators, \n",
    "        max_depth=max_depth, \n",
    "        min_samples_split=min_samples_split, \n",
    "        min_samples_leaf=min_samples_leaf, \n",
    "        max_features=max_features,\n",
    "        random_state=42,\n",
    "        n_jobs=-1\n",
    "    )\n",
    "    \n",
    "    # Train Model\n",
    "    rf.fit(X_train, y_train)\n",
    "    \n",
    "    # Predict & Evaluate\n",
    "    y_pred = rf.predict(X_test)\n",
    "    f1 = f1_score(y_test, y_pred, average='macro')  # Optimize for F1 score\n",
    "    \n",
    "    return f1  # Optuna will maximize this\n",
    "\n",
    "# Run Optuna Optimization\n",
    "study = optuna.create_study(direction='maximize')  # We want to maximize F1 Score\n",
    "study.optimize(objective, n_trials=10)  # Try 10 different hyperparameter sets\n",
    "\n",
    "# Best Hyperparameters\n",
    "print(\"Best Hyperparameters:\", study.best_params)\n",
    "\n",
    "# Train Final Model with Best Params\n",
    "best_params = study.best_params\n",
    "best_rf = RandomForestClassifier(**best_params, random_state=42, n_jobs=-1)\n",
    "best_rf.fit(X_train, y_train)\n",
    "\n",
    "# Make Predictions\n",
    "y_pred = best_rf.predict(X_test)\n",
    "\n",
    "# Evaluate\n",
    "accuracy = accuracy_score(y_test, y_pred)\n",
    "f1_macro = f1_score(y_test, y_pred, average='macro')\n",
    "\n",
    "print(f\"Accuracy: {accuracy:.4f}\")\n",
    "print(f\"F1 Score (Macro): {f1_macro:.4f}\")\n"
   ]
  },
  {
   "cell_type": "code",
   "execution_count": 10,
   "metadata": {},
   "outputs": [
    {
     "name": "stdout",
     "output_type": "stream",
     "text": [
      "Fitting 5 folds for each of 20 candidates, totalling 100 fits\n",
      "Best Parameters: {'n_estimators': 100, 'min_samples_split': 5, 'min_samples_leaf': 1, 'max_features': 'sqrt', 'max_depth': None, 'criterion': 'gini', 'bootstrap': False}\n",
      "Accuracy: 0.9720\n",
      "F1 Score (Macro): 0.9676\n",
      "Classification Report:\n",
      "               precision    recall  f1-score   support\n",
      "\n",
      "           0       0.94      0.98      0.96    247516\n",
      "           1       0.96      0.96      0.96    141893\n",
      "           2       1.00      0.97      0.98    463624\n",
      "\n",
      "    accuracy                           0.97    853033\n",
      "   macro avg       0.96      0.97      0.97    853033\n",
      "weighted avg       0.97      0.97      0.97    853033\n",
      "\n"
     ]
    }
   ],
   "source": [
    "import numpy as np\n",
    "import pandas as pd\n",
    "from sklearn.model_selection import train_test_split, RandomizedSearchCV\n",
    "from sklearn.ensemble import RandomForestClassifier\n",
    "from sklearn.metrics import classification_report, f1_score, accuracy_score\n",
    "\n",
    "# Define a larger hyperparameter space\n",
    "param_dist = {\n",
    "    'n_estimators': [100, 300, 500, 800],  # More trees may improve generalization\n",
    "    'max_depth': [10, 20, 30, None],  # Deeper trees can capture more patterns\n",
    "    'min_samples_split': [2, 5, 10],  # Controls overfitting\n",
    "    'min_samples_leaf': [1, 2, 4],  # Prevents deep overfitted trees\n",
    "    'max_features': ['sqrt', 'log2'],  # Controls number of features per split\n",
    "    'bootstrap': [True, False],  # Controls resampling of data\n",
    "    'criterion': ['gini', 'entropy']  # Different tree splitting criteria\n",
    "}\n",
    "\n",
    "# Initialize Random Forest\n",
    "rf = RandomForestClassifier(random_state=42)\n",
    "\n",
    "# Use RandomizedSearchCV\n",
    "random_search = RandomizedSearchCV(\n",
    "    rf, param_distributions=param_dist, \n",
    "    n_iter=20,  # Number of random searches (increase for better results)\n",
    "    cv=5, \n",
    "    scoring='f1_macro',  # Optimize for F1 score\n",
    "    n_jobs=-1, \n",
    "    verbose=1, \n",
    "    random_state=42\n",
    ")\n",
    "random_search.fit(X_train, y_train)\n",
    "\n",
    "# Get the best model\n",
    "best_rf = random_search.best_estimator_\n",
    "\n",
    "# Print best parameters\n",
    "print(\"Best Parameters:\", random_search.best_params_)\n",
    "\n",
    "# Make predictions\n",
    "y_pred = best_rf.predict(X_test)\n",
    "\n",
    "# Evaluate\n",
    "accuracy = accuracy_score(y_test, y_pred)\n",
    "f1_macro = f1_score(y_test, y_pred, average='macro')\n",
    "\n",
    "print(f\"Accuracy: {accuracy:.4f}\")\n",
    "print(f\"F1 Score (Macro): {f1_macro:.4f}\")\n",
    "print(\"Classification Report:\\n\", classification_report(y_test, y_pred))\n"
   ]
  }
 ],
 "metadata": {
  "kernelspec": {
   "display_name": "Python 3",
   "language": "python",
   "name": "python3"
  },
  "language_info": {
   "codemirror_mode": {
    "name": "ipython",
    "version": 3
   },
   "file_extension": ".py",
   "mimetype": "text/x-python",
   "name": "python",
   "nbconvert_exporter": "python",
   "pygments_lexer": "ipython3",
   "version": "3.12.5"
  }
 },
 "nbformat": 4,
 "nbformat_minor": 2
}
